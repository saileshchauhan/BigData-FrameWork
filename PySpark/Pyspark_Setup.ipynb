{
 "cells": [
  {
   "cell_type": "markdown",
   "id": "09acb1e5",
   "metadata": {},
   "source": [
    "#### Author:- Sailesh Chauhan\n",
    "#### Modified:- 03/07/2021\n",
    "#### Title:- PySpark Session implementing RDD creation, RDD Transformation and \n",
    "####            Action, Set Operations.\n"
   ]
  },
  {
   "cell_type": "code",
   "execution_count": 1,
   "id": "d7b61ade",
   "metadata": {},
   "outputs": [],
   "source": [
    "import findspark"
   ]
  },
  {
   "cell_type": "code",
   "execution_count": 2,
   "id": "cdbe9be1",
   "metadata": {},
   "outputs": [],
   "source": [
    "findspark.init()"
   ]
  },
  {
   "cell_type": "code",
   "execution_count": 3,
   "id": "5a214430",
   "metadata": {},
   "outputs": [
    {
     "name": "stdout",
     "output_type": "stream",
     "text": [
      "Requirement already satisfied: findspark in c:\\programdata\\anaconda3\\lib\\site-packages (1.4.2)\n"
     ]
    }
   ],
   "source": [
    "!pip install findspark"
   ]
  },
  {
   "cell_type": "code",
   "execution_count": 4,
   "id": "812231b5",
   "metadata": {},
   "outputs": [],
   "source": [
    "import pyspark\n",
    "from pyspark.sql import SparkSession\n",
    "\n",
    "spark = SparkSession.builder.appName('Spark_RDD').getOrCreate()\n",
    "sc=spark.sparkContext"
   ]
  },
  {
   "cell_type": "code",
   "execution_count": 5,
   "id": "4107704b",
   "metadata": {},
   "outputs": [
    {
     "name": "stdout",
     "output_type": "stream",
     "text": [
      "3\n"
     ]
    }
   ],
   "source": [
    "\n",
    "myRDD = sc.parallelize([('JK', 22), ('V', 24), ('Jimin',24), ('RM', 25), ('J-Hope', 25), ('Suga', 26), ('Jin', 27)],3)\n",
    "print(str(myRDD.getNumPartitions()))"
   ]
  },
  {
   "cell_type": "code",
   "execution_count": 6,
   "id": "5246f360",
   "metadata": {},
   "outputs": [
    {
     "name": "stdout",
     "output_type": "stream",
     "text": [
      "Number of Partitions: 4\n",
      "Action: First two element: [1, 2]\n",
      "[1, 2, 3, 4, 5]\n"
     ]
    }
   ],
   "source": [
    "rdd=sc.parallelize([1,2,3,4,5])\n",
    "rddCollect = rdd.collect()\n",
    "print(\"Number of Partitions: \"+str(rdd.getNumPartitions()))\n",
    "print(\"Action: First two element: \"+str(rdd.take(2)))\n",
    "print(rddCollect)"
   ]
  },
  {
   "cell_type": "code",
   "execution_count": 8,
   "id": "749ae2fe",
   "metadata": {},
   "outputs": [
    {
     "data": {
      "text/plain": [
       "5"
      ]
     },
     "execution_count": 8,
     "metadata": {},
     "output_type": "execute_result"
    }
   ],
   "source": [
    "rdd.count()"
   ]
  },
  {
   "cell_type": "code",
   "execution_count": 20,
   "id": "012f86bb",
   "metadata": {},
   "outputs": [
    {
     "name": "stdout",
     "output_type": "stream",
     "text": [
      "Number of Partitions  2\n"
     ]
    }
   ],
   "source": [
    "new_RDD = sc.textFile(\"EBook.txt\")\n",
    "print(\"Number of Partitions \",new_RDD.getNumPartitions())"
   ]
  },
  {
   "cell_type": "code",
   "execution_count": 10,
   "id": "e9916e4b",
   "metadata": {},
   "outputs": [
    {
     "data": {
      "text/plain": [
       "['there', 'stood']"
      ]
     },
     "execution_count": 10,
     "metadata": {},
     "output_type": "execute_result"
    }
   ],
   "source": [
    "def Func(lines):\n",
    "    lines = lines.lower()\n",
    "    lines=lines.split()\n",
    "    return lines\n",
    "Split_rdd = new_RDD.flatMap(Func)\n",
    "Split_rdd.take(2)"
   ]
  },
  {
   "cell_type": "code",
   "execution_count": 11,
   "id": "2561e3f4",
   "metadata": {},
   "outputs": [
    {
     "name": "stdout",
     "output_type": "stream",
     "text": [
      "50194\n"
     ]
    },
    {
     "data": {
      "text/plain": [
       "9939"
      ]
     },
     "execution_count": 11,
     "metadata": {},
     "output_type": "execute_result"
    }
   ],
   "source": [
    "print(Split_rdd.count())\n",
    "RDD=Split_rdd.distinct()\n",
    "RDD.count()"
   ]
  },
  {
   "cell_type": "code",
   "execution_count": 12,
   "id": "36d4baaf",
   "metadata": {},
   "outputs": [],
   "source": [
    "countWord=Split_rdd.countByValue()"
   ]
  },
  {
   "cell_type": "code",
   "execution_count": 13,
   "id": "6e3145d1",
   "metadata": {},
   "outputs": [
    {
     "name": "stdout",
     "output_type": "stream",
     "text": [
      "{'there': 108, 'stood': 48, 'on': 311, 'campden': 2, 'hill': 3, 'a': 1112, 'large,': 1, 'dun-coloured': 2, 'house,': 7, 'enclosed': 1, 'by': 174, 'walled-in': 1, 'garden': 7, 'of': 1466, 'several': 7, 'acres': 1, 'in': 824, 'extent.': 1, 'it': 402, 'belonged': 3, 'to': 1306, 'no': 130, 'particular': 6, 'order': 7, 'architecture,': 1, 'and': 1274, 'was': 550, 'more': 78, 'suggestive': 1, 'comfort': 3, 'than': 81, 'splendour,': 1, 'with': 532, 'its': 44, 'great': 62, 'windows,': 4, 'rambling,': 1, 'nondescript': 2, 'proportions.': 1, 'one': 193, 'side,': 2, 'built': 3, 'out': 104, 'from': 258, 'the': 2591, 'house': 25, 'itself,': 6, 'big': 10, 'glass': 5, 'structure,': 2}\n"
     ]
    }
   ],
   "source": [
    "countOf50Words=dict(list(countWord.items())[0:50])\n",
    "print(countOf50Words)"
   ]
  },
  {
   "cell_type": "code",
   "execution_count": 14,
   "id": "6f3bedf7",
   "metadata": {},
   "outputs": [
    {
     "data": {
      "text/plain": [
       "['there',\n",
       " 'stood',\n",
       " 'on',\n",
       " 'campden',\n",
       " 'hill',\n",
       " 'a',\n",
       " 'large,',\n",
       " 'dun-coloured',\n",
       " 'house,',\n",
       " 'enclosed']"
      ]
     },
     "execution_count": 14,
     "metadata": {},
     "output_type": "execute_result"
    }
   ],
   "source": [
    "stopwords = ['a','all','the','as','is','am','an','and','be','been','from','had','I','I’d','why','with']\n",
    "RDD = new_RDD.flatMap(Func)\n",
    "RDD1 = RDD.filter(lambda x: x not in stopwords)\n",
    "RDD.take(10)"
   ]
  },
  {
   "cell_type": "code",
   "execution_count": 15,
   "id": "1e1687ce",
   "metadata": {},
   "outputs": [
    {
     "data": {
      "text/plain": [
       "['campden',\n",
       " 'certain',\n",
       " 'charge',\n",
       " 'cut',\n",
       " 'conservatory,',\n",
       " 'canvas;',\n",
       " 'creatures',\n",
       " 'clinging',\n",
       " 'calamity',\n",
       " 'complexion',\n",
       " 'coarse',\n",
       " 'colour',\n",
       " 'creature',\n",
       " 'child',\n",
       " 'charms.',\n",
       " 'cast',\n",
       " 'chair,',\n",
       " 'clear',\n",
       " 'cannot',\n",
       " 'consenting']"
      ]
     },
     "execution_count": 15,
     "metadata": {},
     "output_type": "execute_result"
    }
   ],
   "source": [
    "import re\n",
    "filteredRDD = RDD.filter(lambda x: x.startswith('c'))\n",
    "filteredRDD.distinct().take(20)"
   ]
  },
  {
   "cell_type": "markdown",
   "id": "e4a36700",
   "metadata": {},
   "source": [
    "##  RDD With key Value pair"
   ]
  },
  {
   "cell_type": "code",
   "execution_count": 17,
   "id": "b20c3357",
   "metadata": {},
   "outputs": [],
   "source": [
    "a = sc.parallelize([('a',2),('b',3)])\n",
    "b = sc.parallelize([('a',9),('b',7),('c',10)])"
   ]
  },
  {
   "cell_type": "markdown",
   "id": "ad07bef7",
   "metadata": {},
   "source": [
    "### Rdd joins transformation and collect action."
   ]
  },
  {
   "cell_type": "code",
   "execution_count": 19,
   "id": "ad2cbdaa",
   "metadata": {},
   "outputs": [
    {
     "data": {
      "text/plain": [
       "[('a', (2, 9)), ('b', (3, 7))]"
      ]
     },
     "execution_count": 19,
     "metadata": {},
     "output_type": "execute_result"
    }
   ],
   "source": [
    "c = a.join(b)\n",
    "c.collect()"
   ]
  },
  {
   "cell_type": "markdown",
   "id": "f941175b",
   "metadata": {},
   "source": [
    "### Use of saveAsTextFile"
   ]
  },
  {
   "cell_type": "code",
   "execution_count": 14,
   "id": "4a9ba0b0",
   "metadata": {},
   "outputs": [],
   "source": [
    "RDD.saveAsTextFile(\"C:/Users/chauh/OneDrive/Desktop/rdd__desktop.txt\")"
   ]
  },
  {
   "cell_type": "code",
   "execution_count": 15,
   "id": "8225d903",
   "metadata": {},
   "outputs": [],
   "source": [
    "rdd_a = sc.parallelize([1,2,3,4])\n",
    "rdd_b = sc.parallelize([3,4,5,6])"
   ]
  },
  {
   "cell_type": "code",
   "execution_count": 16,
   "id": "301eb508",
   "metadata": {},
   "outputs": [
    {
     "data": {
      "text/plain": [
       "[3, 4]"
      ]
     },
     "execution_count": 16,
     "metadata": {},
     "output_type": "execute_result"
    }
   ],
   "source": [
    "rdd_a.intersection(rdd_b).collect()"
   ]
  },
  {
   "cell_type": "code",
   "execution_count": 17,
   "id": "ab96e258",
   "metadata": {},
   "outputs": [
    {
     "data": {
      "text/plain": [
       "[1, 2]"
      ]
     },
     "execution_count": 17,
     "metadata": {},
     "output_type": "execute_result"
    }
   ],
   "source": [
    "rdd_a.subtract(rdd_b).collect()"
   ]
  },
  {
   "cell_type": "code",
   "execution_count": 18,
   "id": "3e4e816b",
   "metadata": {},
   "outputs": [
    {
     "data": {
      "text/plain": [
       "[(1, 3),\n",
       " (1, 4),\n",
       " (1, 5),\n",
       " (1, 6),\n",
       " (2, 3),\n",
       " (2, 4),\n",
       " (2, 5),\n",
       " (2, 6),\n",
       " (3, 3),\n",
       " (3, 4),\n",
       " (3, 5),\n",
       " (3, 6),\n",
       " (4, 3),\n",
       " (4, 4),\n",
       " (4, 5),\n",
       " (4, 6)]"
      ]
     },
     "execution_count": 18,
     "metadata": {},
     "output_type": "execute_result"
    }
   ],
   "source": [
    "rdd_a.cartesian(rdd_b).collect()"
   ]
  },
  {
   "cell_type": "code",
   "execution_count": 19,
   "id": "0a437775",
   "metadata": {},
   "outputs": [
    {
     "data": {
      "text/plain": [
       "[1, 2, 3, 4, 3, 4, 5, 6]"
      ]
     },
     "execution_count": 19,
     "metadata": {},
     "output_type": "execute_result"
    }
   ],
   "source": [
    "rdd_a.union(rdd_b).collect()"
   ]
  },
  {
   "cell_type": "code",
   "execution_count": 20,
   "id": "1e79b27c",
   "metadata": {},
   "outputs": [
    {
     "data": {
      "text/plain": [
       "4"
      ]
     },
     "execution_count": 20,
     "metadata": {},
     "output_type": "execute_result"
    }
   ],
   "source": [
    "rdd_a.count()"
   ]
  },
  {
   "cell_type": "code",
   "execution_count": null,
   "id": "93baeebc",
   "metadata": {},
   "outputs": [],
   "source": []
  }
 ],
 "metadata": {
  "kernelspec": {
   "display_name": "Python 3",
   "language": "python",
   "name": "python3"
  },
  "language_info": {
   "codemirror_mode": {
    "name": "ipython",
    "version": 3
   },
   "file_extension": ".py",
   "mimetype": "text/x-python",
   "name": "python",
   "nbconvert_exporter": "python",
   "pygments_lexer": "ipython3",
   "version": "3.8.8"
  }
 },
 "nbformat": 4,
 "nbformat_minor": 5
}
